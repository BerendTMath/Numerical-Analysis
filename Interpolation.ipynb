{
 "cells": [
  {
   "cell_type": "markdown",
   "id": "7f97d8c2",
   "metadata": {
    "toc": true
   },
   "source": [
    "<h1>Table of Contents<span class=\"tocSkip\"></span></h1>\n",
    "<div class=\"toc\"><ul class=\"toc-item\"><li><span><a href=\"#Linear-interpolation\" data-toc-modified-id=\"Linear-interpolation-1\"><span class=\"toc-item-num\">1&nbsp;&nbsp;</span>Linear interpolation</a></span></li><li><span><a href=\"#Higher-order-lagrange-interpolation\" data-toc-modified-id=\"Higher-order-lagrange-interpolation-2\"><span class=\"toc-item-num\">2&nbsp;&nbsp;</span>Higher order lagrange interpolation</a></span><ul class=\"toc-item\"><li><span><a href=\"#Error\" data-toc-modified-id=\"Error-2.1\"><span class=\"toc-item-num\">2.1&nbsp;&nbsp;</span>Error</a></span><ul class=\"toc-item\"><li><span><a href=\"#Interpolating-error\" data-toc-modified-id=\"Interpolating-error-2.1.1\"><span class=\"toc-item-num\">2.1.1&nbsp;&nbsp;</span>Interpolating error</a></span></li><li><span><a href=\"#Uncertainty\" data-toc-modified-id=\"Uncertainty-2.1.2\"><span class=\"toc-item-num\">2.1.2&nbsp;&nbsp;</span>Uncertainty</a></span></li></ul></li></ul></li><li><span><a href=\"#Cubic-Splines\" data-toc-modified-id=\"Cubic-Splines-3\"><span class=\"toc-item-num\">3&nbsp;&nbsp;</span>Cubic Splines</a></span></li><li><span><a href=\"#Exercises\" data-toc-modified-id=\"Exercises-4\"><span class=\"toc-item-num\">4&nbsp;&nbsp;</span>Exercises</a></span></li></ul></div>"
   ]
  },
  {
   "cell_type": "code",
   "execution_count": 1,
   "id": "c339c44b",
   "metadata": {},
   "outputs": [],
   "source": [
    "from matplotlib import pyplot as plt\n",
    "# import seaborn as sns\n",
    "import numpy as np\n",
    "import ipywidgets as widgets\n",
    "from ipywidgets import interact, interact_manual\n",
    "import seaborn as sns\n",
    "\n",
    "import math\n",
    "import sympy as sym\n",
    "sns.set_theme()\n",
    "%matplotlib inline"
   ]
  },
  {
   "cell_type": "markdown",
   "id": "629ea6fe",
   "metadata": {},
   "source": [
    "# Linear interpolation\n",
    "Using:\n",
    "\n",
    "$$ L(x) = \\frac{ x - b}{ a - b} f(a) + \\frac{ x - a}{ b- a} f(b) $$\n",
    "\n",
    "With error:\n",
    "\n",
    "$$ | f(x) - L(x) | \\le \\frac{1}{8} (b-a)^2 max_{t \\in [a,b]}( f''(t) )$$\n",
    "\n",
    "With uncertainty:\n",
    "$$\n",
    "| L(x) - \\hat{L}(x) | \\le \\frac{ |b -x | + |a - x|}{b -a} \\epsilon\n",
    "$$\n",
    "with $\\epsilon$ being the largest uncertainty over all datapoints."
   ]
  },
  {
   "cell_type": "code",
   "execution_count": 2,
   "id": "b3956e07",
   "metadata": {},
   "outputs": [
    {
     "data": {
      "application/vnd.jupyter.widget-view+json": {
       "model_id": "630b20ee553e4baf9fc15f29ce112cc1",
       "version_major": 2,
       "version_minor": 0
      },
      "text/plain": [
       "interactive(children=(IntSlider(value=2, description='a', max=3, min=1), IntSlider(value=8, description='b', m…"
      ]
     },
     "metadata": {},
     "output_type": "display_data"
    }
   ],
   "source": [
    "t = np.arange(0., 10.2, 0.2)\n",
    "\n",
    "def f(x):\n",
    "    return x**2\n",
    "\n",
    "@interact\n",
    "def show_articles_more_than(a=(1,3), b = (7,10), eps1= (0,10), eps2 =(0,10)):\n",
    "    max_interpolation_error = 1/8 * (b-a)**2 * 2\n",
    "    def L(x):\n",
    "        '''Lagrange polynomial linear'''\n",
    "        return ((x-b)/(a -b)) * f(a) + ((x-a)/(b-a))*f(b) \n",
    "    def unError(x):\n",
    "        return (abs(b-x)+ abs(a-x))/(b-a) * max(eps1,eps2)\n",
    "    def unErrorOutside(x):\n",
    "        return abs((1 + 2 *( (x-b)/(b-a) )) * max(eps1,eps2))\n",
    "    \n",
    "    \n",
    "    plt.figure(figsize=(15,8))\n",
    "    \n",
    "    plt.plot(t, f(t), label=\"function\")\n",
    "    plt.errorbar( [a,b],[f(a),f(b)] , yerr =[eps1,eps2], linewidth=0,elinewidth=3, label=\"Error\" )\n",
    "    plt.plot(t, L(t), label=\"Lagrange polynomial\")\n",
    "#     plt.plot(t, unErrorOutside(t), label=\"Uncertainty\")\n",
    "\n",
    "    plt.plot(t, L(t) + unError(t) + max_interpolation_error, label=\"L hat + e\", linestyle='--',color='grey')\n",
    "    plt.plot(t, L(t) - unError(t) - max_interpolation_error, label=\"L hat - e\", linestyle='--', color='grey')\n",
    "    \n",
    "    plt.plot(t, L(t) + max_interpolation_error, label=\"L hat\", linestyle='--',color='black')\n",
    "    plt.plot(t, L(t) - max_interpolation_error, label=\"L hat \", linestyle='--', color='black')\n",
    "    \n",
    "    plt.xlim([-1,11])\n",
    "    plt.legend()\n",
    "    print(f\"Max interpolation error less than: {max_interpolation_error}\")\n",
    "    \n",
    "    \n",
    "    "
   ]
  },
  {
   "cell_type": "code",
   "execution_count": 3,
   "id": "a982c128",
   "metadata": {},
   "outputs": [
    {
     "data": {
      "text/plain": [
       "[<matplotlib.lines.Line2D at 0x7f40c6f67070>]"
      ]
     },
     "execution_count": 3,
     "metadata": {},
     "output_type": "execute_result"
    },
    {
     "data": {
      "image/png": "[encoded data removed]",
      "text/plain": [
       "<Figure size 432x288 with 1 Axes>"
      ]
     },
     "metadata": {
      "needs_background": "light"
     },
     "output_type": "display_data"
    }
   ],
   "source": [
    "a = 1\n",
    "b = 9\n",
    "eps1 = 5\n",
    "eps2 = 5\n",
    "def unError(x):\n",
    "    return (abs(b-x)+ abs(a-x))/(b-a) * max(eps1,eps2)\n",
    "def unErrorOutside(x):\n",
    "    return abs((1 + 2 *( (x-b)/(b-a) )) * max(eps1,eps2))\n",
    "plt.plot(t, unError(t), label=\"Uncertainty\")\n"
   ]
  },
  {
   "cell_type": "markdown",
   "id": "6024554f",
   "metadata": {},
   "source": [
    "# Higher order lagrange interpolation\n",
    "\n",
    "Note if we have N+1 data points, we fit a Nth order lagrange polynomial.\n",
    "We construct our lagrange polynomial from basis polynomials, meaning the basis polynomial for point $a$ is zero at all the other nodes and $1$ at $a$. Then summing all basis polynomials yields to correct result.\n",
    "\n",
    "To construct a basis polynomial (with n data points, index k selects a specifc node):\n",
    "\n",
    "\n",
    "\\begin{equation}\n",
    "L_{kn}(x) = \\prod^n_{i=0} \\frac{x - x_i}{x_k - x_i}, \\text{ for } i \\neq k\n",
    "\\end{equation}\n",
    "\n",
    "Note that all nodes that are not $x_k$ are roots of this basis polynomial. And pluggin i n $x_k$ yields 1\n",
    "\n",
    "The full Lagrange interpolating polynomial:\n",
    "$$\n",
    "L_n (x) = \\sum_{k=0}^n L_{kn}(x) f(x_k)\n",
    "$$\n",
    "\n",
    "## Error\n",
    "### Interpolating error\n",
    "Note that differentiating the error, $ E(x) = f(x) - L_n $, n+1 times yields $E^{n+1}(x) = f^{n+1}(x) + 0$. To get the error back then, we simply integrate and we make estimations (very similar to derivation of Taylor series error approximation).\n",
    "Thus:\n",
    "$$\n",
    "E(x) = f(x) - L_n(x) \\leq \\big(\\prod_{i=0}^n (x - x_i) \\big) \\cdot \\frac{\\max_{t \\in [x_0, x_n]} f^{(n+1)}(x)}{(n+1)!}\n",
    "$$\n",
    "Note that making this statement independent of $x$ becomes a difficult task, as we would have to find the global maximum of a Nth degree polynomial. (Unlike for the linear Lagrange polynomial).\n",
    "\n",
    "### Uncertainty\n",
    "Suppose there exists some uncertainty in our function $f(x)$, then $\\hat{f(x)} = f(x) + \\epsilon(x)$, where $\\hat{f}(x)$ is our observed function. \\\\\n",
    "\n",
    "Let us assume $| f(x) - \\hat{f}(x) | \\le  \\epsilon$. Where $\\epsilon$ is the greatest error present in our function.\\\\\n",
    "then, we ought to introduce error into our Lagrange polynomial as well, namely:\n",
    "\n",
    "\\begin{align*}\n",
    "\t\\hat{L_n}(x) = \\sum_{k=0}^{n} L_{kn}(x) (f(x) + \\epsilon)\n",
    ".\\end{align*}\n",
    "Then \n",
    "\\begin{align*}\n",
    "\t|\\hat{L_n}(x) - L_n | \\le \\sum_{k=0}^{n} |L_{kn}(x) | \\epsilon\n",
    ".\\end{align*}\n",
    "\n",
    "\n"
   ]
  },
  {
   "cell_type": "code",
   "execution_count": 4,
   "id": "4cbfac02",
   "metadata": {},
   "outputs": [
    {
     "data": {
      "application/vnd.jupyter.widget-view+json": {
       "model_id": "ffeba9a720514145a11a3774d2bde569",
       "version_major": 2,
       "version_minor": 0
      },
      "text/plain": [
       "interactive(children=(FloatSlider(value=1.4, description='eps1', max=2.8), Output()), _dom_classes=('widget-in…"
      ]
     },
     "metadata": {},
     "output_type": "display_data"
    }
   ],
   "source": [
    "t = np.arange(0., 10.2, 0.2)\n",
    "y = sym.symbols('y')\n",
    "\n",
    "\n",
    "def f(x):\n",
    "    return np.sin(x)\n",
    "\n",
    "@interact\n",
    "def show_articles_more_than( eps1= (0,2.8)):\n",
    "\n",
    "    nodes = [0,1,2,3,5]\n",
    "    n = len(nodes)\n",
    "    \n",
    "    f_analytic = sym.sin(y)\n",
    "    fmax = sym.maximum(sym.diff(f_analytic,y,n+1), y, sym.Interval(nodes[0],nodes[n-1]))\n",
    "    print(fmax)\n",
    "    #\n",
    "    def Lkn(k,x):\n",
    "        temp = np.ones_like(x)\n",
    "        for i in range(n):\n",
    "            if i != k:\n",
    "                temp = temp * (x -  nodes[i])/(nodes[k] - nodes[i])\n",
    "        return temp\n",
    "    \n",
    "    def Ln(x):\n",
    "        '''Lagrange polynomial nth order'''\n",
    "        temp = np.zeros_like(x)\n",
    "        for k in range(n):\n",
    "            temp += Lkn(k,x) * f(nodes[k])\n",
    "        \n",
    "        return temp\n",
    "    def E(x):\n",
    "        temp = np.ones_like(x)\n",
    "        for i in range(n):\n",
    "\n",
    "            temp = temp * (x -  nodes[i])\n",
    "\n",
    "        return temp * fmax/ (sym.factorial(n+1))\n",
    "    def uncertainty_errors(t):\n",
    "        temp = np.zeros_like(t)\n",
    "        \n",
    "        max_eps = eps1\n",
    "        for k in range(n):\n",
    "            temp += np.abs(Lkn(k,t)) * max_eps\n",
    "        return temp \n",
    "    \n",
    "    plt.figure(figsize=(15,8))\n",
    "    plt.errorbar( nodes, f(nodes), yerr =eps1, linewidth=0,elinewidth=3, label=\"Error\" )\n",
    "    \n",
    "    plt.plot(t, f(t), label=\"function\")\n",
    "    plt.plot(t, Ln(t), label=\"Lagrange polynomial\")\n",
    "    \n",
    "    Errors = np.abs(E(t))\n",
    "#     print(Errors)\n",
    "    plt.plot(t, Ln(t) + Errors, label=\"L hat\", linestyle='--',color='black')\n",
    "    plt.plot(t, Ln(t) - Errors, label=\"L hat \", linestyle='--', color='black')\n",
    "    \n",
    "    \n",
    "    unErrors = uncertainty_errors(t)\n",
    "    plt.plot(t, Ln(t) + unErrors + Errors,  label=\"L hat + e\", linestyle='--',color='grey')\n",
    "    plt.plot(t, Ln(t) - unErrors - Errors, label=\"L hat - e\", linestyle='--', color='grey')\n",
    "\n",
    "    \n",
    "    plt.xlim([0,6])\n",
    "    plt.ylim([-5,5])\n",
    "    plt.legend()\n",
    "    \n",
    "    \n",
    "    "
   ]
  },
  {
   "cell_type": "markdown",
   "id": "e71f1f46",
   "metadata": {},
   "source": [
    "# Cubic Splines\n",
    "Through a shit ton of algebra we derive:\n",
    "\n",
    "$$\n",
    "a_k = \\frac{1}{3 h_k} (b_{k+1} - b_k )\n",
    "$$\n",
    "$$\n",
    "c_k = \\frac{f_{k+1} - f_k}{h_k} - h_k \\frac{b_{k+1} + 2 b_k}{3}\n",
    "$$\n",
    "Where $h_k := x_{k+1} - x_k$\n",
    "By arbitrary boundary conditions we have $b_0 = b_n = 0$.\n",
    "\n",
    "Next we wish to obtain all $b_k$, we do this by solving the following system of equations:\n",
    "\n",
    "\n",
    "$$\n",
    "\\begin{bmatrix}\n",
    "2(h_0+h_1) & h_1 & 0 & 0 & 0 \\\\\n",
    "h_1 & 2(h_1+h_2) & h_2 & 0 & 0 \\\\\n",
    "0 & h_2 & 2(h_2+h_3) & \\ldots & 0 \\\\\n",
    "0 & 0 & \\vdots & \\ddots & h_{n-2} \\\\\n",
    "0 & 0 & 0 & h_{n-2} & 2(h_{n-2}+h_{n-1}) \n",
    "\\end{bmatrix} \\cdot  \\begin{bmatrix}\n",
    "b_1 \\\\\n",
    "b_2 \\\\\n",
    "b_3 \\\\\n",
    "\\vdots \\\\\n",
    "b_{n-1} \n",
    "\\end{bmatrix} =  3 \\begin{bmatrix}\n",
    "F_0 \\\\\n",
    "F_1 \\\\\n",
    "F_2 \\\\\n",
    "\\vdots \\\\\n",
    "F_{n-2} \n",
    "\\end{bmatrix}  \n",
    "$$\n",
    "\n",
    "Where \n",
    "$$\n",
    "F_k := \\frac{f_{k+2}-f_{k+1}}{h_{k+1}} -\\frac{f_{k+1} - f_k}{h_k}\n",
    "$$"
   ]
  },
  {
   "cell_type": "code",
   "execution_count": 37,
   "id": "5a2a2421",
   "metadata": {},
   "outputs": [
    {
     "name": "stdout",
     "output_type": "stream",
     "text": [
      "[0.5*x**3 + 0.5*x, 2.0*x - 0.5*(x - 1.0)**3 + 1.5*(x - 1.0)**2 - 1.0]\n",
      "3\n"
     ]
    },
    {
     "data": {
      "text/plain": [
       "<matplotlib.legend.Legend at 0x7f40a88f5ac0>"
      ]
     },
     "execution_count": 37,
     "metadata": {},
     "output_type": "execute_result"
    },
    {
     "data": {
      "image/png": "[encoded data removed]",
      "text/plain": [
       "<Figure size 1080x576 with 1 Axes>"
      ]
     },
     "metadata": {
      "needs_background": "light"
     },
     "output_type": "display_data"
    }
   ],
   "source": [
    "#NOTE only works for n >= 3\n",
    "t = np.arange(0., 3, 1)\n",
    "T = np.arange(0., 4.5, 0.05)\n",
    "\n",
    "def f(t):\n",
    "    return t**2\n",
    "n = len(t)\n",
    "\n",
    "# Cubic splines\n",
    "\n",
    "# Get all b_k\n",
    "f_vals = f(t)\n",
    "def generate_h():\n",
    "    temp = np.zeros([n-1,1])\n",
    "    for i in range(n-1):\n",
    "        temp[i] = t[i+1] - t[i]\n",
    "    return temp\n",
    "def generate_F():\n",
    "    temp = np.zeros([n-2,1])\n",
    "    for i in range(n-2):\n",
    "        temp[i] = (f_vals[i+2] - f_vals[i+1])/H[i+1] - ((f_vals[i+1] - f_vals[i])/H[i])\n",
    "    return 3* temp\n",
    "def generate_b():\n",
    "    temp = np.zeros([n-2,n-2])\n",
    "    for i in range(n-3):\n",
    "        temp[i][i] = 2 *(H[i] + H[i+1])\n",
    "        temp[i + 1][i] = H[i+1]\n",
    "        temp[i][i+1] = H[i+1]\n",
    "\n",
    "    temp[-1][-1] = 2 * (H[-1] + H[-2] )\n",
    "#     print(temp)\n",
    "    matrix_inv = np.linalg.inv(temp)\n",
    "    B = np.matmul(matrix_inv , F)\n",
    "\n",
    "    return np.append(np.append([0], B), [0])\n",
    "def generate_a():\n",
    "    temp = np.zeros([n-1, 1])\n",
    "    for i in range(n-1):\n",
    "        temp[i] = 1/(3 *H[i]) *  (B[i+1] - B[i])\n",
    "    return temp\n",
    "def generate_c():\n",
    "    temp = np.zeros([n-1, 1])\n",
    "    for i in range(n-1):\n",
    "        temp[i] = ((f_vals[i+1] - f_vals[i])/H[i]) - H[i] * ((B[i+1] + 2 * B[i])/3)\n",
    "    return temp\n",
    "def generate_S():\n",
    "    S = list()\n",
    "    for i in range(n-1):\n",
    "        S.append( float(A[i]) * (x - t[i]) **3 + float(B[i])* (x - t[i])**2 + float(C[i])*(x - t[i]) + float(f_vals[i])) \n",
    "    return S\n",
    "\n",
    "H = generate_h()\n",
    "F = generate_F()\n",
    "B = generate_b()\n",
    "A = generate_a()\n",
    "C = generate_c()\n",
    "\n",
    "x = sym.symbols('x')\n",
    "S = generate_S()\n",
    "print(S)\n",
    "print(n)\n",
    "# print(S[0].subs(x, 1))\n",
    "def interp(inputs):\n",
    "    temp = np.zeros_like(inputs)\n",
    "    for enum, item in enumerate(inputs):\n",
    "        index = (np.abs(t-item)).argmin()\n",
    "        if t[index] > item:\n",
    "            index -= 1\n",
    "        if index > n -2:\n",
    "            index = n -2\n",
    "        poly = S[index]\n",
    "#         print(index)\n",
    "        temp[enum] = poly.subs(x, item)\n",
    "    return temp\n",
    "\n",
    "plt.figure(figsize=(15,8))\n",
    "plt.plot(T, f(T), label=\"function\")\n",
    "plt.plot(T, interp(T), label=\"Cubic splice\")\n",
    "plt.legend()"
   ]
  },
  {
   "cell_type": "markdown",
   "id": "229b9877",
   "metadata": {},
   "source": [
    "# Exercises"
   ]
  },
  {
   "cell_type": "code",
   "execution_count": 11,
   "id": "322b7685",
   "metadata": {},
   "outputs": [
    {
     "data": {
      "text/plain": [
       "0.6018171275"
      ]
     },
     "execution_count": 11,
     "metadata": {},
     "output_type": "execute_result"
    }
   ],
   "source": [
    "0.58778525 * (3/8) + 0.61566148 * 3/4 + 0.64278761 * (-1)/8"
   ]
  },
  {
   "cell_type": "code",
   "execution_count": 27,
   "id": "a1450456",
   "metadata": {},
   "outputs": [
    {
     "ename": "IndexError",
     "evalue": "index 0 is out of bounds for axis 0 with size 0",
     "output_type": "error",
     "traceback": [
      "\u001b[0;31m---------------------------------------------------------------------------\u001b[0m",
      "\u001b[0;31mIndexError\u001b[0m                                Traceback (most recent call last)",
      "\u001b[0;32m/tmp/ipykernel_1320372/3079907474.py\u001b[0m in \u001b[0;36m<module>\u001b[0;34m\u001b[0m\n\u001b[1;32m      1\u001b[0m \u001b[0mA\u001b[0m \u001b[0;34m=\u001b[0m \u001b[0mnp\u001b[0m\u001b[0;34m.\u001b[0m\u001b[0mones\u001b[0m\u001b[0;34m(\u001b[0m\u001b[0;34m[\u001b[0m\u001b[0;36m0\u001b[0m\u001b[0;34m,\u001b[0m\u001b[0;36m0\u001b[0m\u001b[0;34m]\u001b[0m\u001b[0;34m)\u001b[0m\u001b[0;34m\u001b[0m\u001b[0;34m\u001b[0m\u001b[0m\n\u001b[0;32m----> 2\u001b[0;31m \u001b[0mA\u001b[0m\u001b[0;34m[\u001b[0m\u001b[0;36m0\u001b[0m\u001b[0;34m]\u001b[0m\u001b[0;34m[\u001b[0m\u001b[0;36m0\u001b[0m\u001b[0;34m]\u001b[0m\u001b[0;34m\u001b[0m\u001b[0;34m\u001b[0m\u001b[0m\n\u001b[0m",
      "\u001b[0;31mIndexError\u001b[0m: index 0 is out of bounds for axis 0 with size 0"
     ]
    }
   ],
   "source": []
  },
  {
   "cell_type": "code",
   "execution_count": 21,
   "id": "97dfb56e",
   "metadata": {},
   "outputs": [
    {
     "data": {
      "text/plain": [
       "<matplotlib.legend.Legend at 0x7f40a92d88b0>"
      ]
     },
     "execution_count": 21,
     "metadata": {},
     "output_type": "execute_result"
    },
    {
     "data": {
      "image/png": "[encoded data removed]",
      "text/plain": [
       "<Figure size 432x288 with 1 Axes>"
      ]
     },
     "metadata": {
      "needs_background": "light"
     },
     "output_type": "display_data"
    }
   ],
   "source": [
    "# Ex 3\n",
    "t = np.arange(0., 2, 0.2)\n",
    "\n",
    "def f(x):\n",
    "    return 5*x**2 + 100*x\n",
    "plt.plot([0,1,2],[0,105,220], label='Distance traveled')\n",
    "plt.plot(t, f(t), label='L2')\n",
    "plt.legend()"
   ]
  },
  {
   "cell_type": "code",
   "execution_count": null,
   "id": "a7c92876",
   "metadata": {},
   "outputs": [],
   "source": []
  }
 ],
 "metadata": {
  "kernelspec": {
   "display_name": "Python 3 (ipykernel)",
   "language": "python",
   "name": "python3"
  },
  "language_info": {
   "codemirror_mode": {
    "name": "ipython",
    "version": 3
   },
   "file_extension": ".py",
   "mimetype": "text/x-python",
   "name": "python",
   "nbconvert_exporter": "python",
   "pygments_lexer": "ipython3",
   "version": "3.9.2"
  },
  "toc": {
   "base_numbering": 1,
   "nav_menu": {},
   "number_sections": true,
   "sideBar": true,
   "skip_h1_title": false,
   "title_cell": "Table of Contents",
   "title_sidebar": "Contents",
   "toc_cell": true,
   "toc_position": {},
   "toc_section_display": true,
   "toc_window_display": true
  }
 },
 "nbformat": 4,
 "nbformat_minor": 5
}
